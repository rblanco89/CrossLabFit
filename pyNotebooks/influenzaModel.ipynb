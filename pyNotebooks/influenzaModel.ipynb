{
 "cells": [
  {
   "cell_type": "markdown",
   "id": "9d3fef66-20fb-4884-a758-82b8c04ae09f",
   "metadata": {},
   "source": [
    "# Modeling Influenza A PR8 (H1N1) in the lungs of mice\n",
    "\n",
    "This notebook plots the results of parameter optimization using a classical estimation approach and our Integrative Parameter Estimation (IPE) approach."
   ]
  },
  {
   "cell_type": "code",
   "execution_count": 1,
   "id": "aefd2881-9e1d-4fb8-832f-827f904ad80e",
   "metadata": {},
   "outputs": [],
   "source": [
    "import numpy as np\n",
    "import pandas as pd\n",
    "from scipy.integrate import odeint\n",
    "import matplotlib.pyplot as plt\n",
    "\n",
    "plt.rcParams['xtick.labelsize'] = 14\n",
    "plt.rcParams['ytick.labelsize'] = 14\n",
    "plt.rcParams['font.size'] = 16\n",
    "plt.rcParams['font.family'] = 'serif'\n",
    "plt.rcParams['text.usetex'] = True\n",
    "\n",
    "import seaborn as sns"
   ]
  },
  {
   "cell_type": "code",
   "execution_count": 2,
   "id": "4e9fc0b3-54a3-43e6-b274-bb3b2838c0e0",
   "metadata": {},
   "outputs": [
    {
     "data": {
      "text/html": [
       "<svg  width=\"440\" height=\"55\"><rect x=\"0\" y=\"0\" width=\"55\" height=\"55\" style=\"fill:#482878;stroke-width:2;stroke:rgb(255,255,255)\"/><rect x=\"55\" y=\"0\" width=\"55\" height=\"55\" style=\"fill:#3e4989;stroke-width:2;stroke:rgb(255,255,255)\"/><rect x=\"110\" y=\"0\" width=\"55\" height=\"55\" style=\"fill:#31688e;stroke-width:2;stroke:rgb(255,255,255)\"/><rect x=\"165\" y=\"0\" width=\"55\" height=\"55\" style=\"fill:#26828e;stroke-width:2;stroke:rgb(255,255,255)\"/><rect x=\"220\" y=\"0\" width=\"55\" height=\"55\" style=\"fill:#1f9e89;stroke-width:2;stroke:rgb(255,255,255)\"/><rect x=\"275\" y=\"0\" width=\"55\" height=\"55\" style=\"fill:#35b779;stroke-width:2;stroke:rgb(255,255,255)\"/><rect x=\"330\" y=\"0\" width=\"55\" height=\"55\" style=\"fill:#6ece58;stroke-width:2;stroke:rgb(255,255,255)\"/><rect x=\"385\" y=\"0\" width=\"55\" height=\"55\" style=\"fill:#b5de2b;stroke-width:2;stroke:rgb(255,255,255)\"/></svg>"
      ],
      "text/plain": [
       "[(0.281412, 0.155834, 0.469201),\n",
       " (0.244972, 0.287675, 0.53726),\n",
       " (0.190631, 0.407061, 0.556089),\n",
       " (0.147607, 0.511733, 0.557049),\n",
       " (0.119699, 0.61849, 0.536347),\n",
       " (0.20803, 0.718701, 0.472873),\n",
       " (0.430983, 0.808473, 0.346476),\n",
       " (0.709898, 0.868751, 0.169257)]"
      ]
     },
     "execution_count": 2,
     "metadata": {},
     "output_type": "execute_result"
    }
   ],
   "source": [
    "palette = sns.color_palette('viridis', n_colors=8)\n",
    "palette"
   ]
  },
  {
   "cell_type": "code",
   "execution_count": 3,
   "id": "8aa0a205-4060-4030-9eb4-fcc3e77c8fc1",
   "metadata": {},
   "outputs": [
    {
     "data": {
      "text/html": [
       "<svg  width=\"165\" height=\"55\"><rect x=\"0\" y=\"0\" width=\"55\" height=\"55\" style=\"fill:#611f53;stroke-width:2;stroke:rgb(255,255,255)\"/><rect x=\"55\" y=\"0\" width=\"55\" height=\"55\" style=\"fill:#cb1b4f;stroke-width:2;stroke:rgb(255,255,255)\"/><rect x=\"110\" y=\"0\" width=\"55\" height=\"55\" style=\"fill:#f58860;stroke-width:2;stroke:rgb(255,255,255)\"/></svg>"
      ],
      "text/plain": [
       "[(0.38092887, 0.12061482, 0.32506528),\n",
       " (0.7965014, 0.10506637, 0.31063031),\n",
       " (0.95922872, 0.53307513, 0.3748895)]"
      ]
     },
     "execution_count": 3,
     "metadata": {},
     "output_type": "execute_result"
    }
   ],
   "source": [
    "palette_2 = sns.color_palette('rocket', n_colors=3)\n",
    "palette_2"
   ]
  },
  {
   "cell_type": "markdown",
   "id": "94c25acd-9c21-4d85-a49c-87140b2af979",
   "metadata": {},
   "source": [
    "## Lung Target Cell Model\n",
    "Define the target cell model with T cell compartment\n",
    "\n",
    "\\begin{align}\n",
    "\\dot U &= - \\beta U V \\\\\n",
    "\\dot I &= \\beta U V - \\delta_I T I \\\\\n",
    "\\dot V &= p I - c V \\\\\n",
    "\\dot T &= \\delta_T T_0 + r T V - \\delta_T T\n",
    "\\end{align}"
   ]
  },
  {
   "cell_type": "code",
   "execution_count": 4,
   "id": "4f27999a-e666-4ca7-803a-a97868deb2cd",
   "metadata": {},
   "outputs": [],
   "source": [
    "def lungModel(Y, t, bet, del_I, p, c, r, del_T, T0):\n",
    "    U, I, V, T = Y\n",
    "\n",
    "    dU = -bet*U*V\n",
    "    dI = bet*U*V - del_I*T*I\n",
    "    dV = p*I - c*V\n",
    "    dT = del_T*T0 + r*T*V - del_T*T\n",
    "    \n",
    "    return [dU, dI, dV, dT]"
   ]
  },
  {
   "cell_type": "code",
   "execution_count": 5,
   "id": "aa679691-0f6e-4c55-9ba9-edd6044b9fe2",
   "metadata": {},
   "outputs": [],
   "source": [
    "parNames=['$\\beta$', '$\\delta_I$', '$p$', '$c$', '$r$', '$\\delta_T$', '$T_0$', 'RMSE']"
   ]
  },
  {
   "cell_type": "markdown",
   "id": "745fbd67-7c65-4c1d-83ff-129a91d2de85",
   "metadata": {},
   "source": [
    "Run all parameter set simulations"
   ]
  },
  {
   "cell_type": "code",
   "execution_count": 6,
   "id": "f40f8011-c46c-4022-8e92-4c8c83a175f6",
   "metadata": {},
   "outputs": [],
   "source": [
    "def simulations(dfParams, Y0, t):\n",
    "    U = []\n",
    "    I = []\n",
    "    V = []\n",
    "    T = []\n",
    "    \n",
    "    for i in range(dfParams.shape[0]):\n",
    "        bet = dfParams['$\\beta$'][i]\n",
    "        del_I = dfParams['$\\delta_I$'][i]\n",
    "        p = dfParams['$p$'][i]\n",
    "        c = dfParams['$c$'][i]\n",
    "        r = dfParams['$r$'][i]\n",
    "        del_T = dfParams['$\\delta_T$'][i]\n",
    "        T0 = dfParams['$T_0$'][i]\n",
    "    \n",
    "        sol = odeint(lungModel, Y0, t, args=(bet, del_I, p, c, r, del_T, T0))\n",
    "        U.append(sol[:,0])\n",
    "        I.append(sol[:,1])\n",
    "        V.append(sol[:,2])\n",
    "        T.append(sol[:,3])\n",
    "\n",
    "    return [U, I, V, T]"
   ]
  },
  {
   "cell_type": "markdown",
   "id": "da173dbd-1927-4f9f-aee3-74704ead416a",
   "metadata": {},
   "source": [
    "## Recovering Parameters"
   ]
  },
  {
   "cell_type": "code",
   "execution_count": 12,
   "id": "9310f18c-da88-41e6-938e-f680de15fe02",
   "metadata": {},
   "outputs": [],
   "source": [
    "dfViralData = pd.read_csv('influenza/viralLoad.data', sep='\\t')\n",
    "dfTcellQual = pd.read_csv('influenza/qualTcell.data', sep='\\t')"
   ]
  },
  {
   "cell_type": "code",
   "execution_count": 15,
   "id": "b6ab5392-2e61-4721-bb22-29923124aad6",
   "metadata": {},
   "outputs": [
    {
     "data": {
      "text/plain": [
       "<AxesSubplot: xlabel='Days', ylabel='Virus'>"
      ]
     },
     "execution_count": 15,
     "metadata": {},
     "output_type": "execute_result"
    },
    {
     "data": {
      "image/png": "[encoded data removed]",
      "text/plain": [
       "<Figure size 640x480 with 1 Axes>"
      ]
     },
     "metadata": {},
     "output_type": "display_data"
    }
   ],
   "source": [
    "dfViralData.plot(x='Days', y='Virus', kind='scatter')"
   ]
  },
  {
   "cell_type": "code",
   "execution_count": null,
   "id": "656d2862-916d-4ea1-9fe3-3705c6f561eb",
   "metadata": {},
   "outputs": [],
   "source": []
  }
 ],
 "metadata": {
  "kernelspec": {
   "display_name": "Python 3 (ipykernel)",
   "language": "python",
   "name": "python3"
  },
  "language_info": {
   "codemirror_mode": {
    "name": "ipython",
    "version": 3
   },
   "file_extension": ".py",
   "mimetype": "text/x-python",
   "name": "python",
   "nbconvert_exporter": "python",
   "pygments_lexer": "ipython3",
   "version": "3.10.12"
  }
 },
 "nbformat": 4,
 "nbformat_minor": 5
}
